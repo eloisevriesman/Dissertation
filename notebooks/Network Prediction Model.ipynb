{
 "cells": [
  {
   "cell_type": "markdown",
   "metadata": {},
   "source": [
    "THIS FILE TRAINS THE NEURAL NETWORK:"
   ]
  },
  {
   "cell_type": "code",
   "execution_count": null,
   "metadata": {},
   "outputs": [],
   "source": [
    "import tensorflow as tf\n",
    "from tensorflow.keras.models import Sequential\n",
    "from tensorflow.keras.layers import Dense, Dropout, BatchNormalization, Activation\n",
    "from tensorflow.keras.optimizers import Adam\n",
    "from tensorflow.keras.regularizers import l1_l2\n",
    "from tensorflow.keras.models import load_model\n",
    "from tensorflow.keras.utils import plot_model\n",
    "from sklearn.model_selection import train_test_split\n",
    "import pandas as pd"
   ]
  },
  {
   "cell_type": "code",
   "execution_count": null,
   "metadata": {},
   "outputs": [],
   "source": [
    "# define the neural network\n",
    "def community_neural_network(input_dim):\n",
    "    # Sequential model\n",
    "    model = Sequential()\n",
    "    \n",
    "    # Input layer with input dimension\n",
    "    model.add(Dense(64, input_dim=input_dim, kernel_regularizer=l1_l2(l1=1e-5, l2=1e-4)))\n",
    "    model.add(BatchNormalization())\n",
    "    model.add(Activation('relu'))\n",
    "    model.add(Dropout(0.3))\n",
    "    \n",
    "    # First hidden layer\n",
    "    model.add(Dense(128, kernel_regularizer=l1_l2(l1=1e-5, l2=1e-4)))\n",
    "    model.add(BatchNormalization())\n",
    "    model.add(Activation('relu'))\n",
    "    model.add(Dropout(0.3))\n",
    "    \n",
    "    # Second hidden layer\n",
    "    model.add(Dense(256, kernel_regularizer=l1_l2(l1=1e-5, l2=1e-4)))\n",
    "    model.add(BatchNormalization())\n",
    "    model.add(Activation('relu'))\n",
    "    model.add(Dropout(0.3))\n",
    "    \n",
    "    # Third hidden layer\n",
    "    model.add(Dense(128, kernel_regularizer=l1_l2(l1=1e-5, l2=1e-4)))\n",
    "    model.add(BatchNormalization())\n",
    "    model.add(Activation('relu'))\n",
    "    model.add(Dropout(0.3))\n",
    "    \n",
    "    # Output layer\n",
    "    model.add(Dense(2),'sigmoid')  # We use this to predict values between 0 and 1\n",
    "    \n",
    "    # Compile model\n",
    "    model.compile(loss='binary_crossentropy',  # or 'categorical_crossentropy' if you want just one class\n",
    "                  optimizer=Adam(learning_rate=1e-4),\n",
    "                  metrics=['accuracy'])\n",
    "    return model"
   ]
  },
  {
   "cell_type": "code",
   "execution_count": null,
   "metadata": {},
   "outputs": [],
   "source": [
    "# Load the dataset from the CSV file saved in Community Analysis\n",
    "df = pd.read_csv('./../data/compiled-posts/labelled_data.csv')\n",
    "# Define the features we want to use.\n",
    "X = df[['Toxicity', 'Rationality', 'Mutual Respect', 'Emotion', 'Moderator', 'Diversity']].values\n",
    "# Define the feature we want to predict\n",
    "y = df[['Combative', 'Deliberative']].values"
   ]
  },
  {
   "cell_type": "code",
   "execution_count": null,
   "metadata": {},
   "outputs": [],
   "source": [
    "# Split the data into training and test sets\n",
    "X_train, X_test, y_train, y_test = train_test_split(X, y, test_size=0.2, random_state=42)\n",
    "\n",
    "model = community_neural_network(input_dim=X_train.shape[1])\n",
    "# Train the model\n",
    "model.fit(X_train, y_train, validation_split=0.1, epochs=50, batch_size=32)"
   ]
  },
  {
   "cell_type": "code",
   "execution_count": null,
   "metadata": {},
   "outputs": [],
   "source": [
    "model.save('community_classification_model.h5') "
   ]
  },
  {
   "cell_type": "code",
   "execution_count": null,
   "metadata": {},
   "outputs": [],
   "source": [
    "plot_model(model, to_file='model.png', show_shapes=True, show_layer_names=True)"
   ]
  },
  {
   "cell_type": "code",
   "execution_count": null,
   "metadata": {},
   "outputs": [],
   "source": [
    "model = load_model('community_classification_model.h5')\n",
    "plot_model(model, to_file='model.png', show_shapes=True, show_layer_names=True)"
   ]
  }
 ],
 "metadata": {
  "kernelspec": {
   "display_name": ".venv",
   "language": "python",
   "name": "python3"
  },
  "language_info": {
   "codemirror_mode": {
    "name": "ipython",
    "version": 3
   },
   "file_extension": ".py",
   "mimetype": "text/x-python",
   "name": "python",
   "nbconvert_exporter": "python",
   "pygments_lexer": "ipython3",
   "version": "3.9.16"
  }
 },
 "nbformat": 4,
 "nbformat_minor": 2
}
