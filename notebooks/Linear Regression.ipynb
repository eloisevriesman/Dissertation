{
 "cells": [
  {
   "cell_type": "markdown",
   "metadata": {},
   "source": [
    "THIS FILE PERFORMS THE LINEAR REGRESSION"
   ]
  },
  {
   "cell_type": "code",
   "execution_count": null,
   "metadata": {},
   "outputs": [],
   "source": [
    "import pandas as pd\n",
    "from sklearn.model_selection import train_test_split\n",
    "from sklearn.linear_model import LinearRegression\n",
    "from sklearn.metrics import mean_squared_error\n",
    "import statsmodels.api as sm\n"
   ]
  },
  {
   "cell_type": "markdown",
   "metadata": {},
   "source": [
    "LOAD DATA FROM CSV TO DF"
   ]
  },
  {
   "cell_type": "code",
   "execution_count": null,
   "metadata": {},
   "outputs": [],
   "source": [
    "new_df = pd.read_csv('./../data/compiled-posts/normalised_labelled_data.csv')"
   ]
  },
  {
   "cell_type": "markdown",
   "metadata": {},
   "source": [
    "LINEAR REGRESSION"
   ]
  },
  {
   "cell_type": "code",
   "execution_count": null,
   "metadata": {},
   "outputs": [],
   "source": [
    "features = ['Toxicity', 'Rationality', 'Mutual Respect', 'Emotion', 'Moderator', 'Diversity']\n",
    "target_combative = 'Combative'\n",
    "target_deliberative = 'Deliberative'\n",
    "\n",
    "# Split the data into features and targets\n",
    "X = new_df[features]\n",
    "y_combative = new_df[target_combative]\n",
    "y_deliberative = new_df[target_deliberative]\n",
    "\n",
    "# Split the data into training and testing sets\n",
    "X_train, X_test, y_combative_train, y_combative_test = train_test_split(X, y_combative, test_size=0.2, random_state=42)\n",
    "X_train, X_test, y_deliberative_train, y_deliberative_test = train_test_split(X, y_deliberative, test_size=0.2, random_state=42)\n",
    "\n",
    "# Initialize and fit the linear regression model for Combative\n",
    "model_combative = LinearRegression()\n",
    "model_combative.fit(X_train, y_combative_train)\n",
    "y_combative_pred = model_combative.predict(X_test)\n",
    "mse_combative = mean_squared_error(y_combative_test, y_combative_pred)\n",
    "\n",
    "# Initialize and fit the linear regression model for Deliberative\n",
    "model_deliberative = LinearRegression()\n",
    "model_deliberative.fit(X_train, y_deliberative_train)\n",
    "y_deliberative_pred = model_deliberative.predict(X_test)\n",
    "mse_deliberative = mean_squared_error(y_deliberative_test, y_deliberative_pred)"
   ]
  },
  {
   "cell_type": "code",
   "execution_count": null,
   "metadata": {},
   "outputs": [],
   "source": [
    "#  Printing the MSE and the coefficients with corresponding feature names\n",
    "combative_coef = dict(zip(features, model_combative.coef_))\n",
    "deliberative_coef = dict(zip(features, model_deliberative.coef_))"
   ]
  },
  {
   "cell_type": "markdown",
   "metadata": {},
   "source": [
    "MSE AND COEFFICIENT VALUES:"
   ]
  },
  {
   "cell_type": "code",
   "execution_count": null,
   "metadata": {},
   "outputs": [],
   "source": [
    "print(\"Mean Squared Error for Combative Prediction:\", mse_combative)\n",
    "print(\"Mean Squared Error for Deliberative Prediction:\", mse_deliberative)\n",
    "print(\"\\nCombative Comments Coefficients:\")\n",
    "for feature, coef in combative_coef.items():\n",
    "    print(f\"{feature}: {coef}\")\n",
    "\n",
    "print(\"\\nDeliberative Comments Coefficients:\")\n",
    "for feature, coef in deliberative_coef.items():\n",
    "    print(f\"{feature}: {coef}\")"
   ]
  },
  {
   "cell_type": "markdown",
   "metadata": {},
   "source": [
    "P-VALUE CALCULATION"
   ]
  },
  {
   "cell_type": "code",
   "execution_count": null,
   "metadata": {},
   "outputs": [],
   "source": [
    "# Fit the regression model for combative comments using statsmodels to get p-values\n",
    "X_train_sm = sm.add_constant(X_train)  # Adds a constant term to the predictors\n",
    "model_combative_sm = sm.OLS(y_combative_train, X_train_sm).fit()\n",
    "p_values_combative = model_combative_sm.pvalues\n",
    "\n",
    "# Fit the regression model for deliberative comments using statsmodels to get p-values\n",
    "model_deliberative_sm = sm.OLS(y_deliberative_train, X_train_sm).fit()\n",
    "p_values_deliberative = model_deliberative_sm.pvalues\n",
    "\n",
    "# Print the p-values\n",
    "print(\"\\nP-values for Combative Comments Regression Model:\")\n",
    "print(p_values_combative)\n",
    "\n",
    "print(\"\\nP-values for Deliberative Comments Regression Model:\")\n",
    "print(p_values_deliberative)"
   ]
  }
 ],
 "metadata": {
  "kernelspec": {
   "display_name": ".venv",
   "language": "python",
   "name": "python3"
  },
  "language_info": {
   "codemirror_mode": {
    "name": "ipython",
    "version": 3
   },
   "file_extension": ".py",
   "mimetype": "text/x-python",
   "name": "python",
   "nbconvert_exporter": "python",
   "pygments_lexer": "ipython3",
   "version": "3.9.16"
  }
 },
 "nbformat": 4,
 "nbformat_minor": 2
}
