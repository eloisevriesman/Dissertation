{
 "cells": [
  {
   "cell_type": "code",
   "execution_count": null,
   "id": "fac1fe82",
   "metadata": {},
   "outputs": [],
   "source": [
    "import pandas as pd\n",
    "import networkx as nx\n",
    "import matplotlib.pyplot as plt\n",
    "import json\n",
    "import community as community_louvain\n",
    "\n",
    "from textblob import TextBlob"
   ]
  },
  {
   "cell_type": "code",
   "execution_count": null,
   "id": "139283af",
   "metadata": {},
   "outputs": [],
   "source": [
    "# Load the uploaded file\n",
    "file_path = './Scripts/Political/Conservative_data/Conservative_post_19dxyjc_data.json'\n",
    "with open(file_path, 'r') as file:\n",
    "    data = json.load(file)"
   ]
  },
  {
   "cell_type": "code",
   "execution_count": null,
   "id": "1f802d44",
   "metadata": {},
   "outputs": [],
   "source": [
    "# Extract comments and replies into a flat structure\n",
    "def extract_comments_replies(comments, parent_author=None, parent_body_snippet=None, depth=0):\n",
    "    for comment in comments:\n",
    "        comment_id = f\"{comment['author']} - {comment['body'][:30]}\"  # Unique identifier for the comment\n",
    "        yield {\n",
    "            'depth': depth,\n",
    "            'author': comment['author'],\n",
    "            'body': comment['body'],\n",
    "            'parent_author': parent_author,\n",
    "            'reply_to': parent_body_snippet  # Reference to the parent comment\n",
    "        }\n",
    "        if 'replies' in comment:\n",
    "            parent_snippet = comment['body'][:30]  # Snippet of the current comment's body\n",
    "            yield from extract_comments_replies(comment['replies'], comment['author'], parent_snippet, depth + 1)"
   ]
  },
  {
   "cell_type": "code",
   "execution_count": null,
   "id": "e3a4aa94",
   "metadata": {},
   "outputs": [],
   "source": [
    "# Extract comments and replies\n",
    "extracted_data = list(extract_comments_replies(data['comments']))\n",
    "\n",
    "# Create a DataFrame with the comments and their replies\n",
    "df_comments_replies = pd.DataFrame(extracted_data)\n",
    "\n",
    "df_comments_replies.head(10)"
   ]
  },
  {
   "cell_type": "code",
   "execution_count": null,
   "id": "ccefca91",
   "metadata": {},
   "outputs": [],
   "source": [
    "# visualise clusters of users within this post. \n",
    "# Initialize a directed graph\n",
    "G = nx.DiGraph()\n",
    "\n",
    "# Add nodes and edges\n",
    "for index, row in df_comments_replies.iterrows():\n",
    "    author = row['author']\n",
    "    reply_to_author = row['parent_author']\n",
    "    \n",
    "    # Add nodes for both the author and the parent author\n",
    "    G.add_node(author)\n",
    "    if pd.notna(reply_to_author):  # Check if there's a parent author (reply_to_author is not NaN)\n",
    "        G.add_node(reply_to_author)\n",
    "        # Add an edge from the parent author to the author (indicating a reply)\n",
    "        G.add_edge(reply_to_author, author)\n",
    "\n",
    "# You can add node and edge attributes as needed, for example, to color nodes by sentiment"
   ]
  },
  {
   "cell_type": "code",
   "execution_count": null,
   "id": "75e3f54f",
   "metadata": {},
   "outputs": [],
   "source": [
    "plt.figure(figsize=(12, 12))\n",
    "nx.draw(G, with_labels=True, node_size=50, font_size=8)\n",
    "plt.savefig('./political_graph_figure.png', dpi=300)\n",
    "plt.show()"
   ]
  },
  {
   "cell_type": "code",
   "execution_count": null,
   "id": "d83fb4cb",
   "metadata": {},
   "outputs": [],
   "source": [
    "# look at the reply in df_comments_replies with the highest cluster\n",
    "max_depth = df_comments_replies['depth'].max()  # Find the maximum depth\n",
    "comment_with_max_depth = df_comments_replies[df_comments_replies['depth'] == max_depth]  # Filter to get the comment(s)\n",
    "\n",
    "print(comment_with_max_depth)"
   ]
  },
  {
   "cell_type": "code",
   "execution_count": null,
   "id": "01bbe438",
   "metadata": {},
   "outputs": [],
   "source": [
    "comment_with_max_depth['body']"
   ]
  },
  {
   "cell_type": "code",
   "execution_count": null,
   "id": "b4f3d583",
   "metadata": {},
   "outputs": [],
   "source": [
    "\n",
    "# Function to calculate sentiment polarity\n",
    "def calculate_sentiment(text):\n",
    "    return TextBlob(text).sentiment.polarity\n",
    "\n",
    "# Apply the function to each comment/reply in the DataFrame\n",
    "df_comments_replies['sentiment_score'] = df_comments_replies['body'].apply(calculate_sentiment)\n",
    "\n",
    "# Now, each row in the DataFrame has a 'sentiment_score' column with the sentiment polarity\n"
   ]
  },
  {
   "cell_type": "code",
   "execution_count": null,
   "id": "7d535526",
   "metadata": {},
   "outputs": [],
   "source": [
    "df_comments_replies.head(10)"
   ]
  },
  {
   "cell_type": "code",
   "execution_count": null,
   "id": "9ac59973",
   "metadata": {},
   "outputs": [],
   "source": [
    "G = nx.DiGraph()\n",
    "\n",
    "for index, row in df_comments_replies.iterrows():\n",
    "    author = row['author']\n",
    "    parent_author = row['parent_author']\n",
    "    sentiment = row['sentiment_score']  # Assuming this column exists\n",
    "    \n",
    "    # Add nodes and edges with sentiment score as an edge attribute\n",
    "    G.add_node(author)\n",
    "    if pd.notna(parent_author):\n",
    "        G.add_node(parent_author)\n",
    "        G.add_edge(parent_author, author, sentiment=sentiment)\n"
   ]
  },
  {
   "cell_type": "code",
   "execution_count": null,
   "id": "bf2291c3",
   "metadata": {},
   "outputs": [],
   "source": [
    "# Degree Centrality - centre the comments that have the most replies\n",
    "degree_centrality = nx.degree_centrality(G)\n",
    "\n",
    "# Betweenness Centrality - see how many interactions are within the replies\n",
    "betweenness_centrality = nx.betweenness_centrality(G)\n",
    "\n",
    "# Eigenvector Centrality - this will separate the non connected nodes and cluster the connected ones\n",
    "eigenvector_centrality = nx.eigenvector_centrality(G, max_iter=1000)\n",
    "\n",
    "# you want to analyze these centrality measures to identify key influencers in each post\n"
   ]
  },
  {
   "cell_type": "code",
   "execution_count": null,
   "id": "5a4a0dfb",
   "metadata": {},
   "outputs": [],
   "source": [
    "G_undirected = G.to_undirected()\n",
    "\n",
    "# Louvain method to find communities in the graph\n",
    "partition = community_louvain.best_partition(G_undirected)\n",
    "\n"
   ]
  },
  {
   "cell_type": "code",
   "execution_count": null,
   "id": "6e74f881",
   "metadata": {},
   "outputs": [],
   "source": [
    "# coloring edges by sentiment score\n",
    "edge_colors = [G[u][v]['sentiment'] for u, v in G.edges()]\n",
    "\n",
    "nx.draw(G, edge_color=edge_colors, with_labels=True, node_size=50)\n",
    "plt.show()\n"
   ]
  },
  {
   "cell_type": "code",
   "execution_count": null,
   "id": "e6a5415c",
   "metadata": {},
   "outputs": [],
   "source": []
  }
 ],
 "metadata": {
  "kernelspec": {
   "display_name": "Python 3 (ipykernel)",
   "language": "python",
   "name": "python3"
  },
  "language_info": {
   "codemirror_mode": {
    "name": "ipython",
    "version": 3
   },
   "file_extension": ".py",
   "mimetype": "text/x-python",
   "name": "python",
   "nbconvert_exporter": "python",
   "pygments_lexer": "ipython3",
   "version": "3.11.5"
  }
 },
 "nbformat": 4,
 "nbformat_minor": 5
}
