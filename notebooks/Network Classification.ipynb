{
 "cells": [
  {
   "cell_type": "code",
   "execution_count": null,
   "metadata": {},
   "outputs": [],
   "source": [
    "from tensorflow.keras.models import load_model\n",
    "import pandas as pd\n",
    "from sklearn.metrics import accuracy_score, precision_score, recall_score, f1_score, confusion_matrix, roc_auc_score\n",
    "import numpy as np"
   ]
  },
  {
   "cell_type": "code",
   "execution_count": null,
   "metadata": {},
   "outputs": [],
   "source": [
    "# Load the model\n",
    "model = load_model('community_classification_model.h5')\n",
    "\n",
    "# Load the untagged community posts\n",
    "new_data = pd.read_csv('./../data/compiled-posts/validation_data_unlabelled_binary.csv')\n",
    "\n",
    "X_new = new_data[['Toxicity','Rationality','Mutual Respect','Emotion','Moderator','Diversity']].values\n",
    "\n",
    "# Make predictions with the model\n",
    "predictions = model.predict(X_new)\n",
    "new_data[['Combative', 'Deliberative']] = predictions"
   ]
  },
  {
   "cell_type": "markdown",
   "metadata": {},
   "source": [
    "# Validation metrics for the model"
   ]
  },
  {
   "cell_type": "code",
   "execution_count": null,
   "metadata": {},
   "outputs": [],
   "source": [
    "# Load the community posts that were used to predict but with the actual labels\n",
    "actual_labels =  pd.read_csv('./../data/compiled-posts/validation_posts_binary.csv')\n",
    "actual_labels = actual_labels[['Combative', 'Deliberative']].values\n",
    "binary_predictions = (predictions > 0.5).astype(int)\n",
    "for i in range(binary_predictions.shape[0]):\n",
    "    max_index = np.argmax(predictions[i])\n",
    "    binary_predictions[i] = 0\n",
    "    binary_predictions[i][max_index] = 1\n",
    "\n"
   ]
  },
  {
   "cell_type": "code",
   "execution_count": null,
   "metadata": {},
   "outputs": [],
   "source": [
    "# print the actual_labels that are [0 0] or [1 1]\n",
    "for i in binary_predictions:\n",
    "    if i[0] == 1 and i[1] == 1:\n",
    "        print(i)\n",
    "    if i[0] == 0 and i[1] == 0:\n",
    "        print(i)"
   ]
  },
  {
   "cell_type": "code",
   "execution_count": null,
   "metadata": {},
   "outputs": [],
   "source": [
    "binary_predictions.shape"
   ]
  },
  {
   "cell_type": "code",
   "execution_count": null,
   "metadata": {},
   "outputs": [],
   "source": [
    "# Calculate the accuracy of the model \n",
    "accuracy = accuracy_score(actual_labels, binary_predictions)\n",
    "precision = precision_score(actual_labels, binary_predictions, average='weighted')\n",
    "recall = recall_score(actual_labels, binary_predictions, average='weighted')\n",
    "f1 = f1_score(actual_labels, binary_predictions, average='weighted')\n",
    "roc_auc = roc_auc_score(actual_labels, predictions)\n",
    "conf_matrix = confusion_matrix(actual_labels.argmax(axis=1), binary_predictions.argmax(axis=1))\n"
   ]
  },
  {
   "cell_type": "code",
   "execution_count": null,
   "metadata": {},
   "outputs": [],
   "source": [
    "\n",
    "\n",
    "# Print the metrics\n",
    "print(\"Accuracy:\", accuracy)\n",
    "print(\"Precision:\", precision)\n",
    "print(\"Recall:\", recall)\n",
    "print(\"F1 Score:\", f1)\n",
    "print(\"Confusion Matrix:\\n\", conf_matrix)\n",
    "print(\"ROC AUC:\", roc_auc)"
   ]
  },
  {
   "cell_type": "code",
   "execution_count": null,
   "metadata": {},
   "outputs": [],
   "source": []
  }
 ],
 "metadata": {
  "kernelspec": {
   "display_name": ".venv",
   "language": "python",
   "name": "python3"
  },
  "language_info": {
   "codemirror_mode": {
    "name": "ipython",
    "version": 3
   },
   "file_extension": ".py",
   "mimetype": "text/x-python",
   "name": "python",
   "nbconvert_exporter": "python",
   "pygments_lexer": "ipython3",
   "version": "3.9.16"
  }
 },
 "nbformat": 4,
 "nbformat_minor": 2
}
