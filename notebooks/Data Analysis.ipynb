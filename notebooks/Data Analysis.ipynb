{
 "cells": [
  {
   "cell_type": "markdown",
   "metadata": {},
   "source": [
    "THIS FILE CONTAINS THE CODE USED TO CREATE THE GRAPHS USED IN THE REPORT FOR SECTION 5.4 (DATA ANALYSIS) TO COMPARE HOW FEATURES OF A COMMUNITY DIFFER WITH SUBJECT MATTER"
   ]
  },
  {
   "cell_type": "code",
   "execution_count": null,
   "metadata": {},
   "outputs": [],
   "source": [
    "import pandas as pd\n",
    "import matplotlib.pyplot as plt\n",
    "\n",
    "# Load the dataset\n",
    "file_path = './../../data/compiled-posts/normalised_labelled_data.csv'\n",
    "data = pd.read_csv(file_path)\n",
    "measures = ['Combative', 'Deliberative', 'Toxicity', 'Rationality', 'Mutual Respect', 'Emotion', 'Moderator', 'Diversity']"
   ]
  },
  {
   "cell_type": "code",
   "execution_count": null,
   "metadata": {},
   "outputs": [],
   "source": [
    "# Ensure we only have numeric columns for aggregation\n",
    "numeric_data = data[measures + ['Subreddit']]\n",
    "\n",
    "# Group data by Subreddit and calculate the mean for each measure\n",
    "subreddit_grouped_data = numeric_data.groupby('Subreddit').mean()\n",
    "\n",
    "# Plotting bar charts for each measure grouped by Subreddit\n",
    "fig, axes = plt.subplots(nrows=4, ncols=2, figsize=(15, 20))\n",
    "\n",
    "for ax, measure in zip(axes.flatten(), measures):\n",
    "    subreddit_grouped_data[measure].plot(kind='bar', ax=ax, title=measure)\n",
    "    ax.set_xlabel('Subreddit')\n",
    "    ax.set_ylabel('Average Value')\n",
    "plt.tight_layout()\n",
    "plt.show()\n"
   ]
  },
  {
   "cell_type": "code",
   "execution_count": null,
   "metadata": {},
   "outputs": [],
   "source": [
    "normalized_subreddit_grouped_data = subreddit_grouped_data.copy()\n",
    "for measure in measures:\n",
    "    min_val = subreddit_grouped_data[measure].min()\n",
    "    max_val = subreddit_grouped_data[measure].max()\n",
    "    normalized_subreddit_grouped_data[measure] = (subreddit_grouped_data[measure] - min_val) / (max_val - min_val)\n",
    "\n",
    "# Plotting and saving individual bar charts for each normalized measure grouped by Subreddit\n",
    "for measure in measures:\n",
    "    fig, ax = plt.subplots(figsize=(10, 6))\n",
    "    normalized_subreddit_grouped_data[measure].plot(kind='bar', ax=ax, title=measure)\n",
    "    ax.set_xlabel('Subreddit')\n",
    "    ax.set_ylabel('Value')\n",
    "    plt.tight_layout()\n",
    "    file_path = f'{measure}.png'  # This will save the file in the current directory\n",
    "    plt.savefig(file_path)\n",
    "    plt.close(fig)"
   ]
  },
  {
   "cell_type": "code",
   "execution_count": null,
   "metadata": {},
   "outputs": [],
   "source": [
    "normalized_subreddit_grouped_data = subreddit_grouped_data.copy()\n",
    "for measure in measures:\n",
    "    min_val = subreddit_grouped_data[measure].min()\n",
    "    max_val = subreddit_grouped_data[measure].max()\n",
    "    normalized_subreddit_grouped_data[measure] = (subreddit_grouped_data[measure] - min_val) / (max_val - min_val)\n",
    "\n",
    "# Plotting bar charts for each normalized measure grouped by Subreddit\n",
    "fig, axes = plt.subplots(nrows=4, ncols=2, figsize=(15, 20))\n",
    "\n",
    "for ax, measure in zip(axes.flatten(), measures):\n",
    "    normalized_subreddit_grouped_data[measure].plot(kind='bar', ax=ax, title=measure)\n",
    "    ax.set_xlabel('Subreddit')\n",
    "    ax.set_ylabel('Value (0-1)')\n",
    "    \n",
    "\n",
    "\n",
    "plt.tight_layout()\n",
    "plt.show()"
   ]
  },
  {
   "cell_type": "code",
   "execution_count": null,
   "metadata": {},
   "outputs": [],
   "source": [
    "# Plotting bar charts for each measure grouped by Subreddit\n",
    "fig, axes = plt.subplots(nrows=4, ncols=2, figsize=(15, 20))\n",
    "\n",
    "for ax, measure in zip(axes.flatten(), measures):\n",
    "    subreddit_grouped_data[measure].plot(kind='bar', ax=ax, title=measure)\n",
    "    ax.set_xlabel('Subreddit')\n",
    "    ax.set_ylabel('Value (0-1)')\n",
    "    ax.set_yticks([0, 0.5, 1])\n",
    "    ax.set_yticklabels(['Low', 'Medium', 'High'])\n",
    "    plt.tight_layout()\n",
    "    plt.show()\n",
    "\n",
    "\n",
    "\n"
   ]
  }
 ],
 "metadata": {
  "kernelspec": {
   "display_name": ".venv",
   "language": "python",
   "name": "python3"
  },
  "language_info": {
   "codemirror_mode": {
    "name": "ipython",
    "version": 3
   },
   "file_extension": ".py",
   "mimetype": "text/x-python",
   "name": "python",
   "nbconvert_exporter": "python",
   "pygments_lexer": "ipython3",
   "version": "3.9.6"
  }
 },
 "nbformat": 4,
 "nbformat_minor": 2
}
